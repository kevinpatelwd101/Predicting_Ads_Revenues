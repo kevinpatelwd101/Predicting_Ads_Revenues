{
 "cells": [
  {
   "cell_type": "code",
   "execution_count": 16,
   "metadata": {},
   "outputs": [],
   "source": [
    "import numpy as np\n",
    "import pandas as pd \n",
    "import seaborn as sns\n",
    "import xgboost as xg\n",
    "import matplotlib.pyplot as plt \n",
    "from sklearn.linear_model import LinearRegression\n",
    "from sklearn.metrics import mean_squared_error \n",
    "from sklearn.model_selection import train_test_split"
   ]
  },
  {
   "cell_type": "code",
   "execution_count": 21,
   "metadata": {},
   "outputs": [
    {
     "data": {
      "text/plain": [
       "date            object\n",
       "campaign        object\n",
       "adgroup         object\n",
       "ad              object\n",
       "impressions      int64\n",
       "clicks           int64\n",
       "cost           float64\n",
       "conversions      int64\n",
       "revenue        float64\n",
       "dtype: object"
      ]
     },
     "execution_count": 21,
     "metadata": {},
     "output_type": "execute_result"
    }
   ],
   "source": [
    "training_data = pd.read_csv(\"file:///C:/Users/DELL/Downloads/Train_Data.csv\")\n",
    "testing_data = pd.read_csv(\"file:///C:/Users/DELL/Downloads/Test_Data.csv\")\n",
    "training_data.dtypes"
   ]
  },
  {
   "cell_type": "code",
   "execution_count": 43,
   "metadata": {},
   "outputs": [
    {
     "name": "stdout",
     "output_type": "stream",
     "text": [
      "impressions      int64\n",
      "clicks           int64\n",
      "cost           float64\n",
      "conversions      int64\n",
      "revenue        float64\n",
      "dtype: object\n"
     ]
    }
   ],
   "source": [
    "# training_data = training_data.drop(\"campaign\",axis=1)\n",
    "# training_data.date = training_data.date.astype(\"category\")\n",
    "# training_data.adgroup = training_data.adgroup.astype(\"category\")\n",
    "# training_data.ad = training_data.ad.astype(\"category\")\n",
    "training_data.drop([\"date\",\"adgroup\",\"ad\"],axis=1,inplace=True)\n",
    "print(training_data.dtypes)\n",
    "\n",
    "y = training_data[\"revenue\"]\n",
    "X = training_data.drop(\"revenue\",axis=1)"
   ]
  },
  {
   "cell_type": "code",
   "execution_count": 86,
   "metadata": {},
   "outputs": [],
   "source": [
    "X_train_train,X_train_test,y_train_train,y_train_test = train_test_split(X,y,test_size=0.1,random_state=42)"
   ]
  },
  {
   "cell_type": "code",
   "execution_count": 107,
   "metadata": {},
   "outputs": [],
   "source": [
    "xgb = xg.XGBRegressor(objective ='reg:linear',n_estimators = 10000, seed = 100, learning_rate=0.001)"
   ]
  },
  {
   "cell_type": "code",
   "execution_count": 108,
   "metadata": {},
   "outputs": [
    {
     "name": "stdout",
     "output_type": "stream",
     "text": [
      "[11:00:18] WARNING: C:/Users/Administrator/workspace/xgboost-win64_release_1.4.0/src/objective/regression_obj.cu:171: reg:linear is now deprecated in favor of reg:squarederror.\n"
     ]
    },
    {
     "data": {
      "text/plain": [
       "XGBRegressor(base_score=0.5, booster='gbtree', colsample_bylevel=1,\n",
       "             colsample_bynode=1, colsample_bytree=1, gamma=0, gpu_id=-1,\n",
       "             importance_type='gain', interaction_constraints='',\n",
       "             learning_rate=0.001, max_delta_step=0, max_depth=6,\n",
       "             min_child_weight=1, missing=nan, monotone_constraints='()',\n",
       "             n_estimators=10000, n_jobs=8, num_parallel_tree=1,\n",
       "             objective='reg:linear', random_state=100, reg_alpha=0,\n",
       "             reg_lambda=1, scale_pos_weight=1, seed=100, subsample=1,\n",
       "             tree_method='exact', validate_parameters=1, verbosity=None)"
      ]
     },
     "execution_count": 108,
     "metadata": {},
     "output_type": "execute_result"
    }
   ],
   "source": [
    "xgb.fit(X_train_train,y_train_train)"
   ]
  },
  {
   "cell_type": "code",
   "execution_count": 109,
   "metadata": {},
   "outputs": [
    {
     "name": "stdout",
     "output_type": "stream",
     "text": [
      "181.07598530108197\n"
     ]
    }
   ],
   "source": [
    "print(np.sqrt(mean_squared_error(y_train_test,xgb.predict(X_train_test))))"
   ]
  },
  {
   "cell_type": "code",
   "execution_count": 110,
   "metadata": {},
   "outputs": [
    {
     "name": "stdout",
     "output_type": "stream",
     "text": [
      "181.05625228720723\n"
     ]
    }
   ],
   "source": [
    "a = xgb.predict(X_train_test)\n",
    "for i in range(len(a)):\n",
    "    if a[i]<0:\n",
    "        a[i] = 0\n",
    "print(np.sqrt(mean_squared_error(y_train_test,a)))"
   ]
  },
  {
   "cell_type": "code",
   "execution_count": 111,
   "metadata": {},
   "outputs": [
    {
     "name": "stdout",
     "output_type": "stream",
     "text": [
      "181.04508647902392\n"
     ]
    }
   ],
   "source": [
    "con = list(X_train_test.conversions)\n",
    "for i in range(len(a)):\n",
    "    if con[i]==0:\n",
    "        a[i] = 0\n",
    "print(np.sqrt(mean_squared_error(y_train_test,a)))"
   ]
  }
 ],
 "metadata": {
  "kernelspec": {
   "display_name": "Python 3",
   "language": "python",
   "name": "python3"
  },
  "language_info": {
   "codemirror_mode": {
    "name": "ipython",
    "version": 3
   },
   "file_extension": ".py",
   "mimetype": "text/x-python",
   "name": "python",
   "nbconvert_exporter": "python",
   "pygments_lexer": "ipython3",
   "version": "3.7.6"
  }
 },
 "nbformat": 4,
 "nbformat_minor": 4
}
